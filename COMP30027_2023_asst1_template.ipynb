{
 "cells": [
  {
   "cell_type": "markdown",
   "metadata": {},
   "source": [
    "###### ### The University of Melbourne, School of Computing and Information Systems\n",
    "# COMP30027 Machine Learning, 2023 Semester 1\n",
    "\n",
    "## Assignment 1: Music genre classification with naive Bayes\n"
   ]
  },
  {
   "cell_type": "markdown",
   "metadata": {},
   "source": [
    "**Student ID(s):**     `1159696`\n"
   ]
  },
  {
   "cell_type": "markdown",
   "metadata": {},
   "source": [
    "This iPython notebook is a template which you will use for your Assignment 1 submission.\n",
    "\n",
    "Marking will be applied on the four functions that are defined in this notebook, and to your responses to the questions at the end of this notebook (Submitted in a separate PDF file).\n",
    "\n",
    "**NOTE: YOU SHOULD ADD YOUR RESULTS, DIAGRAMS AND IMAGES FROM YOUR OBSERVATIONS IN THIS FILE TO YOUR REPORT (the PDF file).**\n",
    "\n",
    "You may change the prototypes of these functions, and you may write other functions, according to your requirements. We would appreciate it if the required functions were prominent/easy to find.\n",
    "\n",
    "**Adding proper comments to your code is MANDATORY. **"
   ]
  },
  {
   "cell_type": "code",
   "execution_count": 2,
   "outputs": [],
   "source": [
    "import pandas as pd\n",
    "import numpy as np\n",
    "from sklearn.metrics import accuracy_score, precision_score, recall_score\n",
    "import matplotlib.pyplot as plt"
   ],
   "metadata": {
    "collapsed": false
   }
  },
  {
   "cell_type": "code",
   "execution_count": 3,
   "metadata": {
    "collapsed": true
   },
   "outputs": [],
   "source": [
    "# This function should prepare the data by reading it from a file and converting it into a useful format for training and testing\n",
    "\n",
    "def preprocess(csv_file):\n",
    "    data = pd.read_csv(csv_file)\n",
    "    data = data.drop(columns=['filename']) # drop filename column as it's not correlated with genre\n",
    "\n",
    "    return data"
   ]
  },
  {
   "cell_type": "code",
   "execution_count": 4,
   "outputs": [],
   "source": [
    "def calculate_prior_probabilities(data):\n",
    "    prior_prob = {}\n",
    "    labels = data['label']\n",
    "    total_count = len(labels)\n",
    "    for label in labels.unique():\n",
    "        prior_prob[label] = len(labels[labels == label]) / total_count\n",
    "\n",
    "    return prior_prob"
   ],
   "metadata": {
    "collapsed": false
   }
  },
  {
   "cell_type": "code",
   "execution_count": 5,
   "outputs": [],
   "source": [
    "def calculate_mean(data):\n",
    "    means = {}\n",
    "    for label in data['label'].unique():\n",
    "        means[label] = data[data['label'] == label].mean().to_dict()\n",
    "\n",
    "    return means"
   ],
   "metadata": {
    "collapsed": false
   }
  },
  {
   "cell_type": "code",
   "execution_count": 6,
   "outputs": [],
   "source": [
    "def calculate_sd(data):\n",
    "    \"\"\"\n",
    "    Calculate standard deviation for each feature\n",
    "    \"\"\"\n",
    "    sd = {}\n",
    "    for label in data['label'].unique():\n",
    "        sd[label] = data[data['label'] == label].std().to_dict()\n",
    "\n",
    "    return sd"
   ],
   "metadata": {
    "collapsed": false
   }
  },
  {
   "cell_type": "code",
   "execution_count": 7,
   "metadata": {
    "collapsed": true
   },
   "outputs": [],
   "source": [
    "# This function should calculat prior probabilities and likelihoods from the training data and using\n",
    "# them to build a naive Bayes model\n",
    "\n",
    "def train(csv_file):\n",
    "    model = {}\n",
    "    data = preprocess(csv_file)\n",
    "    prior_prob = calculate_prior_probabilities(data)\n",
    "    means = calculate_mean(data)\n",
    "    sd = calculate_sd(data)\n",
    "    for label in data['label'].unique():\n",
    "        model[label] = {\n",
    "            'prior_prob': prior_prob[label],\n",
    "            'means': means[label],\n",
    "            'sd': sd[label]\n",
    "        }\n",
    "\n",
    "    # print(model)\n",
    "    return model"
   ]
  },
  {
   "cell_type": "code",
   "execution_count": 8,
   "outputs": [
    {
     "name": "stderr",
     "output_type": "stream",
     "text": [
      "C:\\Users\\ASUS\\AppData\\Local\\Temp\\ipykernel_15288\\2725087924.py:4: FutureWarning: Dropping of nuisance columns in DataFrame reductions (with 'numeric_only=None') is deprecated; in a future version this will raise TypeError.  Select only valid columns before calling the reduction.\n",
      "  means[label] = data[data['label'] == label].mean().to_dict()\n",
      "C:\\Users\\ASUS\\AppData\\Local\\Temp\\ipykernel_15288\\4187469521.py:7: FutureWarning: Dropping of nuisance columns in DataFrame reductions (with 'numeric_only=None') is deprecated; in a future version this will raise TypeError.  Select only valid columns before calling the reduction.\n",
      "  sd[label] = data[data['label'] == label].std().to_dict()\n"
     ]
    },
    {
     "data": {
      "text/plain": "{'classical': {'prior_prob': 0.5095541401273885,\n  'means': {'chroma_stft_mean': 0.26258017774671316,\n   'chroma_stft_var': 0.08521878076717257,\n   'rms_mean': 0.04335373581852763,\n   'rms_var': 0.0007238971673131837,\n   'spectral_centroid_mean': 1340.3810399556523,\n   'spectral_centroid_var': 121528.08484880447,\n   'spectral_bandwidth_mean': 1497.1041701325305,\n   'spectral_bandwidth_var': 77205.62105229034,\n   'rolloff_mean': 2445.092887552432,\n   'rolloff_var': 583126.4288641171,\n   'zero_crossing_rate_mean': 0.0768174690407409,\n   'zero_crossing_rate_var': 0.0008172426108240408,\n   'harmony_mean': -0.00022534415145862523,\n   'harmony_var': 0.0030949666694595735,\n   'perceptr_mean': -0.00016172982692096133,\n   'perceptr_var': 0.00021308497797390406,\n   'tempo': 128.69670701291304,\n   'mfcc1_mean': -317.2438946723938,\n   'mfcc1_var': 5425.08553237915,\n   'mfcc2_mean': 142.4378423213959,\n   'mfcc2_var': 689.6421730041507,\n   'mfcc3_mean': -20.15757762491703,\n   'mfcc3_var': 380.16898679733293,\n   'mfcc4_mean': 22.62776364982128,\n   'mfcc4_var': 120.34347887039185,\n   'mfcc5_mean': -2.7541052242740998,\n   'mfcc5_var': 126.713896894455,\n   'mfcc6_mean': 1.8426651932299118,\n   'mfcc6_var': 77.20716099739073,\n   'mfcc7_mean': -8.065852940594779,\n   'mfcc7_var': 84.49915647506717,\n   'mfcc8_mean': -0.5972147157415748,\n   'mfcc8_var': 80.31683430671693,\n   'mfcc9_mean': -6.815537571860476,\n   'mfcc9_var': 89.78730244636537,\n   'mfcc10_mean': 0.552062284993008,\n   'mfcc10_var': 87.26445035934448,\n   'mfcc11_mean': -6.82195008918643,\n   'mfcc11_var': 102.28957939147949,\n   'mfcc12_mean': -1.415902460226789,\n   'mfcc12_var': 98.79147830009461,\n   'mfcc13_mean': -2.6340509679168473,\n   'mfcc13_var': 105.34751524925233,\n   'mfcc14_mean': -1.0777306810021396,\n   'mfcc14_var': 93.97583105564118,\n   'mfcc15_mean': -0.733845219283831,\n   'mfcc15_var': 84.44167518615723,\n   'mfcc16_mean': 0.7927702379296526,\n   'mfcc16_var': 76.45275123119356,\n   'mfcc17_mean': 0.06508200757671116,\n   'mfcc17_var': 76.30252647399905,\n   'mfcc18_mean': 0.701782746892422,\n   'mfcc18_var': 81.22632994651795,\n   'mfcc19_mean': -1.1256186320446433,\n   'mfcc19_var': 93.39849300384523,\n   'mfcc20_mean': -1.336518233828247,\n   'mfcc20_var': 111.81083292961125},\n  'sd': {'chroma_stft_mean': 0.04099520105261902,\n   'chroma_stft_var': 0.0031380570142159926,\n   'rms_mean': 0.03628915905247167,\n   'rms_var': 0.0008643959147184469,\n   'spectral_centroid_mean': 361.55818848076166,\n   'spectral_centroid_var': 98088.60135050768,\n   'spectral_bandwidth_mean': 263.85504880433325,\n   'spectral_bandwidth_var': 75195.78569601286,\n   'rolloff_mean': 782.7775715297159,\n   'rolloff_var': 625401.6363554178,\n   'zero_crossing_rate_mean': 0.02580872034501326,\n   'zero_crossing_rate_var': 0.0006441667030507157,\n   'harmony_mean': 0.0006491339543802551,\n   'harmony_var': 0.005664133078508572,\n   'perceptr_mean': 0.0004054370747830766,\n   'perceptr_var': 0.0004740817318894396,\n   'tempo': 34.344216015357084,\n   'mfcc1_mean': 96.90326427332654,\n   'mfcc1_var': 4016.3809278980166,\n   'mfcc2_mean': 24.409763895937015,\n   'mfcc2_var': 443.0611238575446,\n   'mfcc3_mean': 21.000009597059936,\n   'mfcc3_var': 254.86557217646742,\n   'mfcc4_mean': 11.633504701749699,\n   'mfcc4_var': 55.676408226871025,\n   'mfcc5_mean': 7.037762367453865,\n   'mfcc5_var': 65.91097129810613,\n   'mfcc6_mean': 8.72404882667458,\n   'mfcc6_var': 28.6471983419403,\n   'mfcc7_mean': 4.806603372548212,\n   'mfcc7_var': 41.55739344060877,\n   'mfcc8_mean': 9.662102770822008,\n   'mfcc8_var': 53.97094406431099,\n   'mfcc9_mean': 5.376321414176379,\n   'mfcc9_var': 50.44226191479291,\n   'mfcc10_mean': 7.2580380675757885,\n   'mfcc10_var': 54.71426767613738,\n   'mfcc11_mean': 3.980452857373799,\n   'mfcc11_var': 81.16401637215269,\n   'mfcc12_mean': 5.30360325994825,\n   'mfcc12_var': 57.500002891386224,\n   'mfcc13_mean': 4.319091390129283,\n   'mfcc13_var': 57.00686704491675,\n   'mfcc14_mean': 4.602895193563133,\n   'mfcc14_var': 54.082891307364065,\n   'mfcc15_mean': 4.076744496859259,\n   'mfcc15_var': 42.865633526010015,\n   'mfcc16_mean': 4.410300145702954,\n   'mfcc16_var': 33.464126566729135,\n   'mfcc17_mean': 4.18519919681104,\n   'mfcc17_var': 34.38220278165766,\n   'mfcc18_mean': 3.8192593632486243,\n   'mfcc18_var': 38.12019502322496,\n   'mfcc19_mean': 3.626638882107064,\n   'mfcc19_var': 47.380903278933566,\n   'mfcc20_mean': 3.6536325767965265,\n   'mfcc20_var': 64.64163899914051}},\n 'pop': {'prior_prob': 0.49044585987261147,\n  'means': {'chroma_stft_mean': 0.4030862140965152,\n   'chroma_stft_var': 0.08946558097740273,\n   'rms_mean': 0.20227878690733536,\n   'rms_var': 0.007288082895495033,\n   'spectral_centroid_mean': 3066.6049946286466,\n   'spectral_centroid_var': 916163.793856846,\n   'spectral_bandwidth_mean': 2999.412705139645,\n   'spectral_bandwidth_var': 177363.4798910885,\n   'rolloff_mean': 6637.522215200514,\n   'rolloff_var': 2874635.775605682,\n   'zero_crossing_rate_mean': 0.13314618656370208,\n   'zero_crossing_rate_var': 0.006563554170760778,\n   'harmony_mean': 1.5360399613082163e-05,\n   'harmony_var': 0.02428288575089476,\n   'perceptr_mean': 5.260497044972825e-06,\n   'perceptr_var': 0.01412410628694628,\n   'tempo': 113.73675405901339,\n   'mfcc1_mean': -65.10211712973458,\n   'mfcc1_var': 3961.8447099165483,\n   'mfcc2_mean': 68.06322281081955,\n   'mfcc2_var': 797.9959522594108,\n   'mfcc3_mean': 12.306347524964963,\n   'mfcc3_var': 516.0843081783938,\n   'mfcc4_mean': 16.748538170929077,\n   'mfcc4_var': 280.59728548124247,\n   'mfcc5_mean': 10.556318917057727,\n   'mfcc5_var': 173.81893782182178,\n   'mfcc6_mean': 4.738916945534869,\n   'mfcc6_var': 184.82413487620175,\n   'mfcc7_mean': 6.74494730845674,\n   'mfcc7_var': 126.47404311539293,\n   'mfcc8_mean': 2.7356446390221647,\n   'mfcc8_var': 108.17484570788099,\n   'mfcc9_mean': 4.309804876903437,\n   'mfcc9_var': 97.35967908586778,\n   'mfcc10_mean': 4.788033697959762,\n   'mfcc10_var': 92.03638770363546,\n   'mfcc11_mean': -1.5767089804852168,\n   'mfcc11_var': 80.83881561477463,\n   'mfcc12_mean': 0.5752617797342597,\n   'mfcc12_var': 70.64364742923094,\n   'mfcc13_mean': 0.04631589871964284,\n   'mfcc13_var': 71.05761173793248,\n   'mfcc14_mean': -0.08478114812018082,\n   'mfcc14_var': 70.98349063427419,\n   'mfcc15_mean': 0.0420735393977395,\n   'mfcc15_var': 70.29598255900594,\n   'mfcc16_mean': -0.3365989382584381,\n   'mfcc16_var': 72.42067661533109,\n   'mfcc17_mean': 0.014972753085001853,\n   'mfcc17_var': 78.2225507017854,\n   'mfcc18_mean': 0.8252295962014756,\n   'mfcc18_var': 82.82780815719012,\n   'mfcc19_mean': 0.7990391269906778,\n   'mfcc19_var': 81.58705102004012,\n   'mfcc20_mean': 0.17025195841084848,\n   'mfcc20_var': 80.1655863477038},\n  'sd': {'chroma_stft_mean': 0.056107093941947905,\n   'chroma_stft_var': 0.006061010360067698,\n   'rms_mean': 0.05933414828700609,\n   'rms_var': 0.004978961128300397,\n   'spectral_centroid_mean': 603.7650752430726,\n   'spectral_centroid_var': 392613.6828926939,\n   'spectral_bandwidth_mean': 330.0494381892612,\n   'spectral_bandwidth_var': 81925.32807155437,\n   'rolloff_mean': 1266.235001491552,\n   'rolloff_var': 1210843.2766211096,\n   'zero_crossing_rate_mean': 0.03777813187610131,\n   'zero_crossing_rate_var': 0.0040692018185884285,\n   'harmony_mean': 0.001434208544580524,\n   'harmony_var': 0.014630799269859496,\n   'perceptr_mean': 0.0009506658370873915,\n   'perceptr_var': 0.008375966122571707,\n   'tempo': 23.244382935601653,\n   'mfcc1_mean': 52.73952421028924,\n   'mfcc1_var': 1763.1752519157142,\n   'mfcc2_mean': 21.620870481407117,\n   'mfcc2_var': 366.47895822172393,\n   'mfcc3_mean': 15.658924789887422,\n   'mfcc3_var': 203.36649087165011,\n   'mfcc4_mean': 9.34709728364167,\n   'mfcc4_var': 104.8394404303507,\n   'mfcc5_mean': 6.31121268513599,\n   'mfcc5_var': 66.10344803048463,\n   'mfcc6_mean': 5.737706486864838,\n   'mfcc6_var': 69.51232391019441,\n   'mfcc7_mean': 5.988955234958305,\n   'mfcc7_var': 43.935468659248684,\n   'mfcc8_mean': 4.221956463430842,\n   'mfcc8_var': 39.094157660412414,\n   'mfcc9_mean': 4.767001184285448,\n   'mfcc9_var': 37.00476137130683,\n   'mfcc10_mean': 3.9649058526869223,\n   'mfcc10_var': 30.830082260114708,\n   'mfcc11_mean': 3.573011497645503,\n   'mfcc11_var': 31.506430854259527,\n   'mfcc12_mean': 3.2772286156833763,\n   'mfcc12_var': 26.000771900735803,\n   'mfcc13_mean': 3.1572162872634277,\n   'mfcc13_var': 32.448473929352346,\n   'mfcc14_mean': 3.6215029669591807,\n   'mfcc14_var': 34.52551030798787,\n   'mfcc15_mean': 3.1144542883277873,\n   'mfcc15_var': 45.21402527019707,\n   'mfcc16_mean': 3.258910143189761,\n   'mfcc16_var': 39.20246561345597,\n   'mfcc17_mean': 3.586043005001816,\n   'mfcc17_var': 42.963078036438056,\n   'mfcc18_mean': 3.2897158933934247,\n   'mfcc18_var': 42.95110610034396,\n   'mfcc19_mean': 2.528304058266527,\n   'mfcc19_var': 35.73816474049358,\n   'mfcc20_mean': 2.9271238691416053,\n   'mfcc20_var': 35.16630639417011}}}"
     },
     "execution_count": 8,
     "metadata": {},
     "output_type": "execute_result"
    }
   ],
   "source": [
    "train('COMP30027_2023_asst1_data/pop_vs_classical_train.csv')"
   ],
   "metadata": {
    "collapsed": false
   }
  },
  {
   "cell_type": "code",
   "execution_count": 9,
   "outputs": [],
   "source": [
    "def calc_gaussian_prob(x, mean, sd):\n",
    "    \"\"\"\n",
    "    Calculate the probability of x given the mean and standard deviation\n",
    "    \"\"\"\n",
    "    left = 1 / (sd * np.sqrt(2 * np.pi))\n",
    "    right = np.exp(-((x - mean) ** 2) / (2 * sd ** 2))\n",
    "    return left * right"
   ],
   "metadata": {
    "collapsed": false
   }
  },
  {
   "cell_type": "code",
   "execution_count": 10,
   "outputs": [],
   "source": [
    "def calc_posterior_prob(model, x: []):\n",
    "    \"\"\"\n",
    "    Calculate the posterior probability of each class given the input x\n",
    "    \"\"\"\n",
    "    posterior_prob = {}\n",
    "    for label in model.keys():\n",
    "        prior_prob = model[label]['prior_prob']\n",
    "        likelihood = 0\n",
    "        for feature in x:\n",
    "            mean = model[label]['means'][feature]\n",
    "            sd = model[label]['sd'][feature]\n",
    "            likelihood += np.log(calc_gaussian_prob(x[feature], mean, sd))\n",
    "        posterior_prob[label] = np.log(prior_prob) + likelihood\n",
    "\n",
    "    return posterior_prob"
   ],
   "metadata": {
    "collapsed": false
   }
  },
  {
   "cell_type": "code",
   "execution_count": 11,
   "outputs": [],
   "source": [
    "def find_highest_posterior_prob(posterior_prob):\n",
    "    \"\"\"\n",
    "    Find the class with the highest posterior probability\n",
    "    \"\"\"\n",
    "    highest_prob = float('-inf')\n",
    "    highest_label = None\n",
    "    for label in posterior_prob.keys():\n",
    "        if posterior_prob[label] > highest_prob:\n",
    "            highest_prob = posterior_prob[label]\n",
    "            highest_label = label\n",
    "\n",
    "    return highest_label"
   ],
   "metadata": {
    "collapsed": false
   }
  },
  {
   "cell_type": "code",
   "execution_count": 12,
   "metadata": {
    "collapsed": true
   },
   "outputs": [],
   "source": [
    "# This function should predict classes for new items in a test dataset\n",
    "\n",
    "def predict(model, test_data):\n",
    "    results = []\n",
    "    # drop label column if it exists before predicting\n",
    "    if test_data[\"label\"] is not None:\n",
    "        test_data = test_data.drop(columns=['label'])\n",
    "    # find the class with the highest posterior probability in each instance\n",
    "    for index, row in test_data.iterrows():\n",
    "        posterior_prob = calc_posterior_prob(model, row.to_dict())\n",
    "        results.append(find_highest_posterior_prob(posterior_prob))\n",
    "\n",
    "    return results"
   ]
  },
  {
   "cell_type": "code",
   "execution_count": 13,
   "metadata": {
    "collapsed": true
   },
   "outputs": [],
   "source": [
    "# This function should evaliate the prediction performance by comparing your model’s class outputs to ground\n",
    "# truth labels\n",
    "\n",
    "def evaluate(model, test_data, true_labels=None):\n",
    "    test_data = preprocess(test_data)\n",
    "    if true_labels is None:\n",
    "        true_labels = test_data['label'].to_list()\n",
    "\n",
    "    results = predict(model, test_data)\n",
    "    print(\"results:\",results)\n",
    "    print(\"true_labels:\",true_labels)\n",
    "\n",
    "    return"
   ]
  },
  {
   "cell_type": "code",
   "execution_count": 14,
   "outputs": [
    {
     "name": "stdout",
     "output_type": "stream",
     "text": [
      "results: ['classical', 'classical', 'classical', 'classical', 'classical', 'classical', 'classical', 'classical', 'classical', 'classical', 'classical', 'classical', 'classical', 'classical', 'classical', 'classical', 'classical', 'classical', 'classical', 'classical', 'pop', 'pop', 'classical', 'pop', 'pop', 'pop', 'pop', 'pop', 'pop', 'pop', 'pop', 'pop', 'pop', 'pop', 'pop', 'pop', 'pop', 'pop', 'pop', 'pop', 'pop', 'pop', 'pop']\n",
      "true_labels: ['classical', 'classical', 'classical', 'classical', 'classical', 'classical', 'classical', 'classical', 'classical', 'classical', 'classical', 'classical', 'classical', 'classical', 'classical', 'classical', 'classical', 'classical', 'classical', 'classical', 'pop', 'pop', 'pop', 'pop', 'pop', 'pop', 'pop', 'pop', 'pop', 'pop', 'pop', 'pop', 'pop', 'pop', 'pop', 'pop', 'pop', 'pop', 'pop', 'pop', 'pop', 'pop', 'pop']\n"
     ]
    },
    {
     "name": "stderr",
     "output_type": "stream",
     "text": [
      "C:\\Users\\ASUS\\AppData\\Local\\Temp\\ipykernel_15288\\2725087924.py:4: FutureWarning: Dropping of nuisance columns in DataFrame reductions (with 'numeric_only=None') is deprecated; in a future version this will raise TypeError.  Select only valid columns before calling the reduction.\n",
      "  means[label] = data[data['label'] == label].mean().to_dict()\n",
      "C:\\Users\\ASUS\\AppData\\Local\\Temp\\ipykernel_15288\\4187469521.py:7: FutureWarning: Dropping of nuisance columns in DataFrame reductions (with 'numeric_only=None') is deprecated; in a future version this will raise TypeError.  Select only valid columns before calling the reduction.\n",
      "  sd[label] = data[data['label'] == label].std().to_dict()\n",
      "C:\\Users\\ASUS\\AppData\\Local\\Temp\\ipykernel_15288\\3688418554.py:12: RuntimeWarning: divide by zero encountered in log\n",
      "  likelihood += np.log(calc_gaussian_prob(x[feature], mean, sd))\n"
     ]
    }
   ],
   "source": [
    "evaluate(train('COMP30027_2023_asst1_data/pop_vs_classical_train.csv'), 'COMP30027_2023_asst1_data/pop_vs_classical_test.csv')"
   ],
   "metadata": {
    "collapsed": false
   }
  },
  {
   "cell_type": "code",
   "execution_count": 15,
   "outputs": [
    {
     "name": "stderr",
     "output_type": "stream",
     "text": [
      "C:\\Users\\ASUS\\AppData\\Local\\Temp\\ipykernel_15288\\2725087924.py:4: FutureWarning: Dropping of nuisance columns in DataFrame reductions (with 'numeric_only=None') is deprecated; in a future version this will raise TypeError.  Select only valid columns before calling the reduction.\n",
      "  means[label] = data[data['label'] == label].mean().to_dict()\n",
      "C:\\Users\\ASUS\\AppData\\Local\\Temp\\ipykernel_15288\\4187469521.py:7: FutureWarning: Dropping of nuisance columns in DataFrame reductions (with 'numeric_only=None') is deprecated; in a future version this will raise TypeError.  Select only valid columns before calling the reduction.\n",
      "  sd[label] = data[data['label'] == label].std().to_dict()\n",
      "C:\\Users\\ASUS\\AppData\\Local\\Temp\\ipykernel_15288\\3688418554.py:12: RuntimeWarning: divide by zero encountered in log\n",
      "  likelihood += np.log(calc_gaussian_prob(x[feature], mean, sd))\n"
     ]
    },
    {
     "name": "stdout",
     "output_type": "stream",
     "text": [
      "results: ['country', 'country', 'reggae', 'blues', 'jazz', 'blues', 'metal', 'metal', 'metal', 'blues', 'metal', 'metal', 'metal', 'metal', 'metal', 'country', 'reggae', 'country', 'country', 'classical', 'classical', 'classical', 'classical', 'classical', 'classical', 'rock', 'rock', 'classical', 'classical', 'classical', 'classical', 'classical', 'classical', 'classical', 'jazz', 'classical', 'classical', 'classical', 'classical', 'country', 'hiphop', 'country', 'country', 'country', 'country', 'country', 'country', 'disco', 'disco', 'country', 'country', 'country', 'country', 'metal', 'metal', 'disco', 'disco', 'disco', 'disco', 'disco', 'disco', 'rock', 'rock', 'jazz', 'disco', 'metal', 'hiphop', 'disco', 'reggae', 'hiphop', 'hiphop', 'metal', 'disco', 'blues', 'metal', 'disco', 'metal', 'metal', 'reggae', 'rock', 'hiphop', 'reggae', 'hiphop', 'rock', 'hiphop', 'hiphop', 'pop', 'pop', 'pop', 'hiphop', 'metal', 'metal', 'metal', 'disco', 'disco', 'country', 'metal', 'hiphop', 'rock', 'country', 'country', 'rock', 'jazz', 'blues', 'jazz', 'rock', 'classical', 'jazz', 'rock', 'jazz', 'rock', 'jazz', 'rock', 'rock', 'pop', 'jazz', 'metal', 'metal', 'metal', 'metal', 'metal', 'metal', 'metal', 'metal', 'hiphop', 'metal', 'metal', 'metal', 'metal', 'metal', 'metal', 'disco', 'metal', 'metal', 'metal', 'metal', 'pop', 'hiphop', 'jazz', 'country', 'pop', 'pop', 'pop', 'pop', 'pop', 'pop', 'reggae', 'jazz', 'pop', 'pop', 'pop', 'pop', 'pop', 'reggae', 'disco', 'pop', 'pop', 'pop', 'pop', 'country', 'country', 'reggae', 'reggae', 'reggae', 'country', 'reggae', 'reggae', 'reggae', 'reggae', 'rock', 'reggae', 'reggae', 'country', 'country', 'country', 'metal', 'country', 'country', 'blues', 'metal', 'metal', 'metal', 'metal', 'disco', 'rock', 'classical', 'rock', 'rock', 'blues', 'disco', 'metal', 'disco', 'metal', 'disco', 'disco', 'jazz', 'metal', 'metal', 'metal', 'country']\n",
      "true_labels: ['blues', 'blues', 'blues', 'blues', 'blues', 'blues', 'blues', 'blues', 'blues', 'blues', 'blues', 'blues', 'blues', 'blues', 'blues', 'blues', 'blues', 'blues', 'blues', 'classical', 'classical', 'classical', 'classical', 'classical', 'classical', 'classical', 'classical', 'classical', 'classical', 'classical', 'classical', 'classical', 'classical', 'classical', 'classical', 'classical', 'classical', 'classical', 'classical', 'country', 'country', 'country', 'country', 'country', 'country', 'country', 'country', 'country', 'country', 'country', 'country', 'country', 'country', 'country', 'country', 'disco', 'disco', 'disco', 'disco', 'disco', 'disco', 'disco', 'disco', 'disco', 'disco', 'disco', 'disco', 'disco', 'disco', 'disco', 'disco', 'disco', 'disco', 'disco', 'disco', 'disco', 'disco', 'hiphop', 'hiphop', 'hiphop', 'hiphop', 'hiphop', 'hiphop', 'hiphop', 'hiphop', 'hiphop', 'hiphop', 'hiphop', 'hiphop', 'hiphop', 'hiphop', 'hiphop', 'hiphop', 'hiphop', 'hiphop', 'hiphop', 'hiphop', 'hiphop', 'jazz', 'jazz', 'jazz', 'jazz', 'jazz', 'jazz', 'jazz', 'jazz', 'jazz', 'jazz', 'jazz', 'jazz', 'jazz', 'jazz', 'jazz', 'jazz', 'jazz', 'jazz', 'metal', 'metal', 'metal', 'metal', 'metal', 'metal', 'metal', 'metal', 'metal', 'metal', 'metal', 'metal', 'metal', 'metal', 'metal', 'metal', 'metal', 'metal', 'metal', 'metal', 'pop', 'pop', 'pop', 'pop', 'pop', 'pop', 'pop', 'pop', 'pop', 'pop', 'pop', 'pop', 'pop', 'pop', 'pop', 'pop', 'pop', 'pop', 'pop', 'pop', 'pop', 'pop', 'pop', 'reggae', 'reggae', 'reggae', 'reggae', 'reggae', 'reggae', 'reggae', 'reggae', 'reggae', 'reggae', 'reggae', 'reggae', 'reggae', 'reggae', 'rock', 'rock', 'rock', 'rock', 'rock', 'rock', 'rock', 'rock', 'rock', 'rock', 'rock', 'rock', 'rock', 'rock', 'rock', 'rock', 'rock', 'rock', 'rock', 'rock', 'rock', 'rock', 'rock', 'rock', 'rock', 'rock', 'rock']\n"
     ]
    }
   ],
   "source": [
    "evaluate(train('COMP30027_2023_asst1_data/gztan_train.csv'), 'COMP30027_2023_asst1_data/gztan_test.csv')"
   ],
   "metadata": {
    "collapsed": false
   }
  },
  {
   "cell_type": "markdown",
   "metadata": {},
   "source": [
    "## Task 1. Pop vs. classical music classification\n",
    "\n",
    "#### NOTE: you may develope codes or functions to help respond to the question here, but your formal answer must be submitted separately as a PDF."
   ]
  },
  {
   "cell_type": "markdown",
   "metadata": {},
   "source": [
    "### Q1\n",
    "Compute and report the accuracy, precision, and recall of your model (treat \"classical\" as the \"positive\" class)."
   ]
  },
  {
   "cell_type": "code",
   "execution_count": 16,
   "outputs": [],
   "source": [
    "def evaluate_pop_classical(model, test_data, true_labels=None):\n",
    "    test_data = preprocess(test_data)\n",
    "    if true_labels is None:\n",
    "        true_labels = test_data['label'].to_list()\n",
    "\n",
    "    results = predict(model, test_data)\n",
    "    # consider classical as the positive class\n",
    "    tp, fp, tn, fn = 0, 0, 0, 0\n",
    "    for i in range(len(results)):\n",
    "        if results[i] == 'classical' and true_labels[i] == 'classical':\n",
    "            tp += 1\n",
    "        elif results[i] == 'classical' and true_labels[i] == 'pop':\n",
    "            fp += 1\n",
    "        elif results[i] == 'pop' and true_labels[i] == 'pop':\n",
    "            tn += 1\n",
    "        elif results[i] == 'pop' and true_labels[i] == 'classical':\n",
    "            fn += 1\n",
    "\n",
    "    # calculate accuracy\n",
    "    accuracy = (tp + tn) / (tp + tn + fp + fn)\n",
    "    # calculate precision\n",
    "    precision = tp / (tp + fp)\n",
    "    # calculate recall\n",
    "    recall = tp / (tp + fn)\n",
    "\n",
    "    print(\"skl:\", accuracy_score(true_labels, results) ,precision_score(true_labels, results, pos_label='classical'), recall_score(true_labels, results, pos_label='classical'))\n",
    "\n",
    "    return {\n",
    "        'accuracy': accuracy,\n",
    "        'precision': precision,\n",
    "        'recall': recall\n",
    "    }"
   ],
   "metadata": {
    "collapsed": false
   }
  },
  {
   "cell_type": "code",
   "execution_count": 17,
   "metadata": {
    "collapsed": true
   },
   "outputs": [
    {
     "name": "stdout",
     "output_type": "stream",
     "text": [
      "skl: 0.9767441860465116 0.9523809523809523 1.0\n"
     ]
    },
    {
     "name": "stderr",
     "output_type": "stream",
     "text": [
      "C:\\Users\\ASUS\\AppData\\Local\\Temp\\ipykernel_15288\\2725087924.py:4: FutureWarning: Dropping of nuisance columns in DataFrame reductions (with 'numeric_only=None') is deprecated; in a future version this will raise TypeError.  Select only valid columns before calling the reduction.\n",
      "  means[label] = data[data['label'] == label].mean().to_dict()\n",
      "C:\\Users\\ASUS\\AppData\\Local\\Temp\\ipykernel_15288\\4187469521.py:7: FutureWarning: Dropping of nuisance columns in DataFrame reductions (with 'numeric_only=None') is deprecated; in a future version this will raise TypeError.  Select only valid columns before calling the reduction.\n",
      "  sd[label] = data[data['label'] == label].std().to_dict()\n",
      "C:\\Users\\ASUS\\AppData\\Local\\Temp\\ipykernel_15288\\3688418554.py:12: RuntimeWarning: divide by zero encountered in log\n",
      "  likelihood += np.log(calc_gaussian_prob(x[feature], mean, sd))\n"
     ]
    },
    {
     "data": {
      "text/plain": "{'accuracy': 0.9767441860465116,\n 'precision': 0.9523809523809523,\n 'recall': 1.0}"
     },
     "execution_count": 17,
     "metadata": {},
     "output_type": "execute_result"
    }
   ],
   "source": [
    "evaluate_pop_classical(train('COMP30027_2023_asst1_data/pop_vs_classical_train.csv'), 'COMP30027_2023_asst1_data/pop_vs_classical_test.csv')"
   ]
  },
  {
   "cell_type": "markdown",
   "metadata": {},
   "source": [
    "### Q2\n",
    "For each of the features X below, plot the probability density functions P(X|Class = pop) and P(X|Class = classical). If you had to classify pop vs. classical music using just one of these three features, which feature would you use and why? Refer to your plots to support your answer.\n",
    "- spectral centroid mean\n",
    "- harmony mean\n",
    "- tempo"
   ]
  },
  {
   "cell_type": "code",
   "execution_count": 18,
   "metadata": {
    "collapsed": true
   },
   "outputs": [],
   "source": [
    "def get_domain(data: pd.DataFrame, feature: str, label: str=None):\n",
    "    if label is not None:\n",
    "        data = data[data['label'] == label][feature]\n",
    "    else:\n",
    "        data = data[feature]\n",
    "\n",
    "    return data.min(), data.max()"
   ]
  },
  {
   "cell_type": "code",
   "execution_count": 71,
   "outputs": [],
   "source": [
    "def plot_prob_density(data: pd.DataFrame, model: {}, feature: str, domain: ()=None):\n",
    "    for label in data['label'].unique():\n",
    "        label_mean = model[label]['means'][feature]\n",
    "        label_sd = model[label]['sd'][feature]\n",
    "        data_mean = data[feature].mean()\n",
    "        data_sd = data[feature].std()\n",
    "        if domain is None:\n",
    "            x = np.linspace(data_mean-4*data_sd, data_mean+4*data_sd, 50, endpoint=True)\n",
    "        else:\n",
    "            x = np.linspace(domain[0], domain[1], 50)\n",
    "        y = []\n",
    "        for val in x:\n",
    "            y.append(calc_gaussian_prob(val, label_mean, label_sd))\n",
    "        plt.plot(x, y)\n",
    "    plt.legend(data['label'].unique())\n",
    "    plt.show()"
   ],
   "metadata": {
    "collapsed": false
   }
  },
  {
   "cell_type": "code",
   "execution_count": 48,
   "outputs": [
    {
     "name": "stderr",
     "output_type": "stream",
     "text": [
      "C:\\Users\\ASUS\\AppData\\Local\\Temp\\ipykernel_15288\\2725087924.py:4: FutureWarning: Dropping of nuisance columns in DataFrame reductions (with 'numeric_only=None') is deprecated; in a future version this will raise TypeError.  Select only valid columns before calling the reduction.\n",
      "  means[label] = data[data['label'] == label].mean().to_dict()\n",
      "C:\\Users\\ASUS\\AppData\\Local\\Temp\\ipykernel_15288\\4187469521.py:7: FutureWarning: Dropping of nuisance columns in DataFrame reductions (with 'numeric_only=None') is deprecated; in a future version this will raise TypeError.  Select only valid columns before calling the reduction.\n",
      "  sd[label] = data[data['label'] == label].std().to_dict()\n"
     ]
    }
   ],
   "source": [
    "data = preprocess('COMP30027_2023_asst1_data/pop_vs_classical_train.csv')\n",
    "model = train('COMP30027_2023_asst1_data/pop_vs_classical_train.csv')"
   ],
   "metadata": {
    "collapsed": false
   }
  },
  {
   "cell_type": "code",
   "execution_count": 72,
   "outputs": [
    {
     "data": {
      "text/plain": "<Figure size 432x288 with 1 Axes>",
      "image/png": "[encoded data removed]"
     },
     "metadata": {
      "needs_background": "light"
     },
     "output_type": "display_data"
    }
   ],
   "source": [
    "plot_prob_density(data, model, 'spectral_centroid_mean')"
   ],
   "metadata": {
    "collapsed": false
   }
  },
  {
   "cell_type": "code",
   "execution_count": 73,
   "outputs": [
    {
     "data": {
      "text/plain": "<Figure size 432x288 with 1 Axes>",
      "image/png": "[encoded data removed]"
     },
     "metadata": {
      "needs_background": "light"
     },
     "output_type": "display_data"
    }
   ],
   "source": [
    "plot_prob_density(data, model, 'harmony_mean')"
   ],
   "metadata": {
    "collapsed": false
   }
  },
  {
   "cell_type": "code",
   "execution_count": 74,
   "outputs": [
    {
     "data": {
      "text/plain": "<Figure size 432x288 with 1 Axes>",
      "image/png": "[encoded data removed]"
     },
     "metadata": {
      "needs_background": "light"
     },
     "output_type": "display_data"
    }
   ],
   "source": [
    "plot_prob_density(data, model, 'tempo')"
   ],
   "metadata": {
    "collapsed": false
   }
  },
  {
   "cell_type": "markdown",
   "metadata": {},
   "source": [
    "## Task 2. 10-way music genre classification\n",
    "\n",
    "#### NOTE: you may develope codes or functions to help respond to the question here, but your formal answer must be submitted separately as a PDF."
   ]
  },
  {
   "cell_type": "markdown",
   "metadata": {},
   "source": [
    "### Q3\n",
    "Compare the performance of the full model to a 0R baseline and a one-attribute baseline. The one-attribute baseline should be the best possible naive Bayes model which uses only a prior and a single attribute. In your write-up, explain how you implemented the 0R and one-attribute baselines."
   ]
  },
  {
   "cell_type": "code",
   "execution_count": 20,
   "metadata": {
    "collapsed": true
   },
   "outputs": [],
   "source": []
  },
  {
   "cell_type": "markdown",
   "metadata": {},
   "source": [
    "### Q4\n",
    "Train and test your model with a range of training set sizes by setting up your own train/test splits. With each split, use cross-fold validation so you can report the performance on the entire dataset (1000 items). You may use built-in functions to set up cross-validation splits. In your write-up, evaluate how model performance changes with training set size."
   ]
  },
  {
   "cell_type": "code",
   "execution_count": 20,
   "metadata": {
    "collapsed": true
   },
   "outputs": [],
   "source": []
  },
  {
   "cell_type": "markdown",
   "metadata": {},
   "source": [
    "### Q5\n",
    "Implement a kernel density estimate (KDE) naive Bayes model and compare its performance to your Gaussian naive Bayes model. You may use built-in functions and automatic (\"rule of thumb\") bandwidth selectors to compute the KDE probabilities, but you should implement the naive Bayes logic yourself. You should give the parameters of the KDE implementation (namely, what bandwidth(s) you used and how they were chosen) in your write-up."
   ]
  },
  {
   "cell_type": "code",
   "execution_count": 20,
   "metadata": {
    "collapsed": true
   },
   "outputs": [],
   "source": []
  },
  {
   "cell_type": "markdown",
   "metadata": {},
   "source": [
    "### Q6\n",
    "Modify your naive Bayes model to handle missing attributes in the test data. Recall from lecture that you can handle missing attributes at test by skipping the missing attributes and computing the posterior probability from the non-missing attributes. Randomly delete some attributes from the provided test set to test how robust your model is to missing data. In your write-up, evaluate how your model's performance changes as the amount of missing data increases."
   ]
  },
  {
   "cell_type": "code",
   "execution_count": 20,
   "metadata": {
    "collapsed": true
   },
   "outputs": [],
   "source": []
  }
 ],
 "metadata": {
  "kernelspec": {
   "display_name": "Python 3",
   "language": "python",
   "name": "python3"
  },
  "language_info": {
   "codemirror_mode": {
    "name": "ipython",
    "version": 3
   },
   "file_extension": ".py",
   "mimetype": "text/x-python",
   "name": "python",
   "nbconvert_exporter": "python",
   "pygments_lexer": "ipython3",
   "version": "3.8.2"
  }
 },
 "nbformat": 4,
 "nbformat_minor": 4
}
